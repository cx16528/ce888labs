{
 "cells": [
  {
   "cell_type": "code",
   "execution_count": 1,
   "metadata": {
    "collapsed": true
   },
   "outputs": [],
   "source": [
    "import pandas\n",
    "import numpy as np\n",
    "import pandas as pd\n",
    "\n",
    "#from __future__ import print_function\n",
    "\n",
    "from sklearn.datasets import make_blobs\n",
    "from sklearn.cluster import KMeans\n",
    "from sklearn.metrics import silhouette_score\n",
    "\n",
    "\n",
    "import matplotlib.pyplot as plt\n",
    "import matplotlib.cm as cm\n",
    "\n",
    "%matplotlib inline  \n",
    "import seaborn as sns"
   ]
  },
  {
   "cell_type": "code",
   "execution_count": 2,
   "metadata": {
    "collapsed": true
   },
   "outputs": [],
   "source": [
    "df = pd.read_csv(\"hUSCensus1990raw50K.csv.bz2\",compression = \"bz2\")"
   ]
  },
  {
   "cell_type": "code",
   "execution_count": 3,
   "metadata": {
    "collapsed": true
   },
   "outputs": [],
   "source": [
    "df_demo = pd.DataFrame()\n",
    "\n",
    "\n",
    "df_demo[\"AGE\"] = df[[\"AGE\"]].copy()\n",
    "df_demo[\"INCOME\"] = df[[\"INCOME\" + str(i) for i in range(1,8)]].sum(axis = 1)\n",
    "\n",
    "df_demo[\"YEARSCH\"] = df[[\"YEARSCH\"]].copy()\n",
    "df_demo[\"ENGLISH\"] = df[[\"ENGLISH\"]].copy()\n",
    "df_demo[\"FERTIL\"] = df[[\"FERTIL\"]].copy()\n",
    "df_demo[\"YRSSERV\"] = df[[\"YRSSERV\"]].copy()\n",
    "\n",
    "\n",
    "\n",
    "df_demo = pd.get_dummies(df_demo, columns = [\"ENGLISH\", \"FERTIL\" ])\n"
   ]
  },
  {
   "cell_type": "code",
   "execution_count": 19,
   "metadata": {
    "collapsed": false
   },
   "outputs": [
    {
     "name": "stdout",
     "output_type": "stream",
     "text": [
      "Number of clusters: 2\n",
      "Silhouette Coefficient: 0.398\n",
      "Number of clusters: 2\n",
      "Silhouette Coefficient: 0.394\n",
      "Number of clusters: 2\n",
      "Silhouette Coefficient: 0.327\n",
      "Number of clusters: 2\n",
      "Silhouette Coefficient: 0.123\n",
      "Number of clusters: 2\n",
      "Silhouette Coefficient: 0.243\n",
      "Number of clusters: 2\n",
      "Silhouette Coefficient: 0.395\n",
      "Number of clusters: 2\n",
      "Silhouette Coefficient: 0.389\n",
      "Number of clusters: 2\n",
      "Silhouette Coefficient: 0.399\n",
      "Number of clusters: 2\n",
      "Silhouette Coefficient: 0.390\n",
      "Number of clusters: 2\n",
      "Silhouette Coefficient: 0.396\n",
      "Number of clusters: 3\n",
      "Silhouette Coefficient: 0.265\n",
      "Number of clusters: 3\n",
      "Silhouette Coefficient: 0.152\n",
      "Number of clusters: 3\n",
      "Silhouette Coefficient: 0.278\n",
      "Number of clusters: 3\n",
      "Silhouette Coefficient: 0.152\n",
      "Number of clusters: 3\n",
      "Silhouette Coefficient: 0.162\n",
      "Number of clusters: 3\n",
      "Silhouette Coefficient: 0.262\n",
      "Number of clusters: 3\n",
      "Silhouette Coefficient: 0.165\n",
      "Number of clusters: 3\n",
      "Silhouette Coefficient: 0.153\n",
      "Number of clusters: 3\n",
      "Silhouette Coefficient: 0.264\n",
      "Number of clusters: 3\n",
      "Silhouette Coefficient: 0.264\n",
      "Number of clusters: 4\n",
      "Silhouette Coefficient: 0.288\n",
      "Number of clusters: 4\n",
      "Silhouette Coefficient: 0.194\n",
      "Number of clusters: 4\n",
      "Silhouette Coefficient: 0.286\n",
      "Number of clusters: 4\n",
      "Silhouette Coefficient: 0.224\n",
      "Number of clusters: 4\n",
      "Silhouette Coefficient: 0.284\n",
      "Number of clusters: 4\n",
      "Silhouette Coefficient: 0.270\n",
      "Number of clusters: 4\n",
      "Silhouette Coefficient: 0.265\n",
      "Number of clusters: 4\n",
      "Silhouette Coefficient: 0.270\n",
      "Number of clusters: 4\n",
      "Silhouette Coefficient: 0.203\n",
      "Number of clusters: 4\n",
      "Silhouette Coefficient: 0.281\n",
      "Number of clusters: 5\n",
      "Silhouette Coefficient: 0.280\n",
      "Number of clusters: 5\n",
      "Silhouette Coefficient: 0.222\n",
      "Number of clusters: 5\n",
      "Silhouette Coefficient: 0.252\n",
      "Number of clusters: 5\n",
      "Silhouette Coefficient: 0.259\n",
      "Number of clusters: 5\n",
      "Silhouette Coefficient: 0.290\n",
      "Number of clusters: 5\n",
      "Silhouette Coefficient: 0.217\n",
      "Number of clusters: 5\n",
      "Silhouette Coefficient: 0.238\n",
      "Number of clusters: 5\n",
      "Silhouette Coefficient: 0.254\n",
      "Number of clusters: 5\n",
      "Silhouette Coefficient: 0.240\n",
      "Number of clusters: 5\n",
      "Silhouette Coefficient: 0.284\n",
      "Number of clusters: 6\n",
      "Silhouette Coefficient: 0.313\n",
      "Number of clusters: 6\n",
      "Silhouette Coefficient: 0.228\n",
      "Number of clusters: 6\n",
      "Silhouette Coefficient: 0.336\n",
      "Number of clusters: 6\n",
      "Silhouette Coefficient: 0.250\n",
      "Number of clusters: 6\n",
      "Silhouette Coefficient: 0.265\n",
      "Number of clusters: 6\n",
      "Silhouette Coefficient: 0.281\n",
      "Number of clusters: 6\n",
      "Silhouette Coefficient: 0.276\n",
      "Number of clusters: 6\n",
      "Silhouette Coefficient: 0.294\n",
      "Number of clusters: 6\n",
      "Silhouette Coefficient: 0.273\n",
      "Number of clusters: 6\n",
      "Silhouette Coefficient: 0.232\n",
      "Number of clusters: 7\n",
      "Silhouette Coefficient: 0.313\n",
      "Number of clusters: 7\n",
      "Silhouette Coefficient: 0.298\n",
      "Number of clusters: 7\n",
      "Silhouette Coefficient: 0.337\n",
      "Number of clusters: 7\n",
      "Silhouette Coefficient: 0.346\n",
      "Number of clusters: 7\n",
      "Silhouette Coefficient: 0.273\n",
      "Number of clusters: 7\n",
      "Silhouette Coefficient: 0.277\n",
      "Number of clusters: 7\n",
      "Silhouette Coefficient: 0.270\n",
      "Number of clusters: 7\n",
      "Silhouette Coefficient: 0.307\n",
      "Number of clusters: 7\n",
      "Silhouette Coefficient: 0.267\n",
      "Number of clusters: 7\n",
      "Silhouette Coefficient: 0.304\n",
      "Number of clusters: 8\n",
      "Silhouette Coefficient: 0.355\n",
      "Number of clusters: 8\n",
      "Silhouette Coefficient: 0.366\n",
      "Number of clusters: 8\n",
      "Silhouette Coefficient: 0.370\n",
      "Number of clusters: 8\n",
      "Silhouette Coefficient: 0.314\n",
      "Number of clusters: 8\n",
      "Silhouette Coefficient: 0.359\n",
      "Number of clusters: 8\n",
      "Silhouette Coefficient: 0.401\n",
      "Number of clusters: 8\n",
      "Silhouette Coefficient: 0.354\n",
      "Number of clusters: 8\n",
      "Silhouette Coefficient: 0.349\n",
      "Number of clusters: 8\n",
      "Silhouette Coefficient: 0.322\n",
      "Number of clusters: 8\n",
      "Silhouette Coefficient: 0.394\n",
      "Number of clusters: 9\n",
      "Silhouette Coefficient: 0.406\n",
      "Number of clusters: 9\n",
      "Silhouette Coefficient: 0.416\n",
      "Number of clusters: 9\n",
      "Silhouette Coefficient: 0.410\n",
      "Number of clusters: 9\n",
      "Silhouette Coefficient: 0.375\n",
      "Number of clusters: 9\n",
      "Silhouette Coefficient: 0.369\n",
      "Number of clusters: 9\n",
      "Silhouette Coefficient: 0.355\n",
      "Number of clusters: 9\n",
      "Silhouette Coefficient: 0.376\n",
      "Number of clusters: 9\n",
      "Silhouette Coefficient: 0.346\n",
      "Number of clusters: 9\n",
      "Silhouette Coefficient: 0.387\n",
      "Number of clusters: 9\n",
      "Silhouette Coefficient: 0.394\n",
      "Number of clusters: 10\n",
      "Silhouette Coefficient: 0.358\n",
      "Number of clusters: 10\n",
      "Silhouette Coefficient: 0.390\n",
      "Number of clusters: 10\n",
      "Silhouette Coefficient: 0.382\n",
      "Number of clusters: 10\n",
      "Silhouette Coefficient: 0.411\n",
      "Number of clusters: 10\n",
      "Silhouette Coefficient: 0.390\n",
      "Number of clusters: 10\n",
      "Silhouette Coefficient: 0.373\n",
      "Number of clusters: 10\n",
      "Silhouette Coefficient: 0.390\n",
      "Number of clusters: 10\n",
      "Silhouette Coefficient: 0.379\n",
      "Number of clusters: 10\n",
      "Silhouette Coefficient: 0.400\n",
      "Number of clusters: 10\n",
      "Silhouette Coefficient: 0.402\n"
     ]
    }
   ],
   "source": [
    "#X = df_demo.values[np.random.choice(df_demo.values.shape[0], 10000)]\n",
    "\n",
    "from sklearn import metrics\n",
    "from sklearn.preprocessing import StandardScaler\n",
    "#sc = StandardScaler()\n",
    "#X_db = sc.fit_transform(X)\n",
    "#j = 0\n",
    "#a = [i for i in range(10), j for j in range(11)]\n",
    "l = []\n",
    "#index = [2,3,4,5,6,7,8,9,10,11]\n",
    "for n in range(2, 11):\n",
    "    for k in range(1,11):\n",
    "        X = df_demo.values[np.random.choice(df_demo.values.shape[0], 10000)]\n",
    "        sc = StandardScaler()\n",
    "        X_db = sc.fit_transform(X)\n",
    "        n_clusters = n\n",
    "\n",
    "        labels = KMeans(n_clusters = n_clusters).fit_predict(X_db)\n",
    "        s = metrics.silhouette_score(X_db, labels)\n",
    "        \n",
    "        l.append([n,s])\n",
    "        #l.insert(index,var)\n",
    "        \n",
    "        #a[n - 2][k -1] = s\n",
    "        #cluster_dict = dict\n",
    "\n",
    "\n",
    "\n",
    "        print('Number of clusters: %d' % n_clusters)\n",
    "\n",
    "        print(\"Silhouette Coefficient: %0.3f\"\n",
    "              % s)\n",
    "    \n",
    "\n",
    "    #unique_labels = set(labels)\n",
    "    #colors = plt.cm.Spectral(np.linspace(0, 1, len(unique_labels)))\n",
    "    #for k, col in zip(unique_labels, colors):\n",
    "        #if k == -1:\n",
    "            # Black used for noise.\n",
    "            #col = 'k'\n",
    "\n",
    "        #class_member_mask = (labels == k)\n",
    "\n",
    "        #xy = X[class_member_mask]\n",
    "        #plt.scatter(xy[:, 0], xy[:, 1],  c = col, edgecolor='k')\n",
    "\n",
    "        #xy = X[class_member_mask]\n",
    "        #plt.scatter(xy[:, 0], xy[:, 1],  c = col, edgecolor='k')\n",
    "    #plt.show()\n",
    "    #sns.pointplot(x=\"AGE\", y=\"INCOME\", data=df_demo)"
   ]
  },
  {
   "cell_type": "code",
   "execution_count": 34,
   "metadata": {
    "collapsed": false
   },
   "outputs": [
    {
     "data": {
      "text/plain": [
       "<matplotlib.axes._subplots.AxesSubplot at 0x7fb76b224bd0>"
      ]
     },
     "execution_count": 34,
     "metadata": {},
     "output_type": "execute_result"
    },
    {
     "data": {
      "image/png": "[encoded data removed]",
      "text/plain": [
       "<matplotlib.figure.Figure at 0x7fb76b4d7f90>"
      ]
     },
     "metadata": {},
     "output_type": "display_data"
    }
   ],
   "source": [
    "#print l\n",
    "dt = pd.DataFrame(l)\n",
    "dt.columns=[\"n_cluster\",\"trial\"]\n",
    "#print dt\n",
    "sns.pointplot(x=\"n_cluster\", y=\"trial\", data=dt,join=False)"
   ]
  },
  {
   "cell_type": "code",
   "execution_count": 12,
   "metadata": {
    "collapsed": false
   },
   "outputs": [
    {
     "data": {
      "text/plain": [
       "dict"
      ]
     },
     "execution_count": 12,
     "metadata": {},
     "output_type": "execute_result"
    }
   ],
   "source": []
  },
  {
   "cell_type": "code",
   "execution_count": null,
   "metadata": {
    "collapsed": true
   },
   "outputs": [],
   "source": []
  }
 ],
 "metadata": {
  "kernelspec": {
   "display_name": "Python 2",
   "language": "python",
   "name": "python2"
  },
  "language_info": {
   "codemirror_mode": {
    "name": "ipython",
    "version": 2
   },
   "file_extension": ".py",
   "mimetype": "text/x-python",
   "name": "python",
   "nbconvert_exporter": "python",
   "pygments_lexer": "ipython2",
   "version": "2.7.12"
  }
 },
 "nbformat": 4,
 "nbformat_minor": 2
}
